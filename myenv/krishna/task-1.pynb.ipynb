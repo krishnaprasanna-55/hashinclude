{
 "cells": [
  {
   "cell_type": "code",
   "execution_count": 4,
   "metadata": {},
   "outputs": [
    {
     "name": "stdout",
     "output_type": "stream",
     "text": [
      "HELLO WORLD\n"
     ]
    }
   ],
   "source": [
    "print(\"HELLO WORLD\")\n",
    "\n",
    "\n"
   ]
  },
  {
   "cell_type": "code",
   "execution_count": 2,
   "metadata": {},
   "outputs": [
    {
     "name": "stdout",
     "output_type": "stream",
     "text": [
      "<class 'int'>\n"
     ]
    }
   ],
   "source": [
    "# 2.task:Write a Python program that accepts user input and prints the data type of the input\n",
    "n=5\n",
    "print(type(n))"
   ]
  },
  {
   "cell_type": "code",
   "execution_count": 3,
   "metadata": {},
   "outputs": [
    {
     "name": "stdout",
     "output_type": "stream",
     "text": [
      "<class 'str'>\n"
     ]
    }
   ],
   "source": [
    "n=\"krishna\"\n",
    "print(type(n))"
   ]
  },
  {
   "cell_type": "code",
   "execution_count": 4,
   "metadata": {},
   "outputs": [
    {
     "name": "stdout",
     "output_type": "stream",
     "text": [
      "<class 'bool'>\n"
     ]
    }
   ],
   "source": [
    "n=True\n",
    "print(type(n))"
   ]
  },
  {
   "cell_type": "code",
   "execution_count": 5,
   "metadata": {},
   "outputs": [
    {
     "name": "stdout",
     "output_type": "stream",
     "text": [
      "<class 'float'>\n"
     ]
    }
   ],
   "source": [
    "n=6.5\n",
    "print(type(n))"
   ]
  },
  {
   "cell_type": "code",
   "execution_count": 7,
   "metadata": {},
   "outputs": [
    {
     "name": "stdout",
     "output_type": "stream",
     "text": [
      "<class 'complex'>\n"
     ]
    }
   ],
   "source": [
    "n=7+6j\n",
    "print(type(n))"
   ]
  },
  {
   "cell_type": "code",
   "execution_count": 8,
   "metadata": {},
   "outputs": [
    {
     "name": "stdout",
     "output_type": "stream",
     "text": [
      "KITTU\n",
      "5\n",
      "kiLLu\n"
     ]
    }
   ],
   "source": [
    "# 3.Create a Python program that takes a string as input and performs the \n",
    "#following operations:\n",
    "#1 Convert the string to uppercase.\n",
    "#2 Find the length of the string.\n",
    "#3 Replace all occurrences of a specific character.\n",
    "a = input(\"Enter a string \")\n",
    "print(a.upper())\n",
    "print(len(a))\n",
    "print(a.replace('t','L'))"
   ]
  },
  {
   "cell_type": "code",
   "execution_count": 10,
   "metadata": {},
   "outputs": [
    {
     "name": "stdout",
     "output_type": "stream",
     "text": [
      "2\n",
      "25.0\n"
     ]
    }
   ],
   "source": [
    "#4.Write a Python program that converts a floating-point number to an integer a = 2.34\n",
    "a = 2.34\n",
    "b = \"25\"\n",
    "print(int(a))\n",
    "print(float(b))\n"
   ]
  },
  {
   "cell_type": "code",
   "execution_count": 15,
   "metadata": {},
   "outputs": [
    {
     "ename": "IndentationError",
     "evalue": "expected an indented block after 'if' statement on line 8 (501529045.py, line 9)",
     "output_type": "error",
     "traceback": [
      "\u001b[1;36m  Cell \u001b[1;32mIn[15], line 9\u001b[1;36m\u001b[0m\n\u001b[1;33m    print(\"vowels count:\",count)\u001b[0m\n\u001b[1;37m                                ^\u001b[0m\n\u001b[1;31mIndentationError\u001b[0m\u001b[1;31m:\u001b[0m expected an indented block after 'if' statement on line 8\n"
     ]
    }
   ],
   "source": [
    "#5.: Given a string, perform the following operations:\n",
    "# Count the number of vowels.\n",
    "# Reverse the string.\n",
    "# Check if the string is a palindrome\n",
    "a = input(\"Enter a string: \")\n",
    "#count of vowels\n",
    "count = 0\n",
    "for i in a:\n",
    "    if i =='a' or i=='e' or i=='i' or i=='o' or i=='u':\n",
    "        count=count+1\n",
    "print(\"vowels count:\",count)\n",
    "\n",
    "#reverse of a string\n",
    "str=''\n",
    "for i in a:\n",
    "    str = i + str\n",
    "print(str)\n",
    "\n",
    "#Palindrome or not\n",
    "if a==str:\n",
    "    print(\"Palindrome\")\n",
    "else:\n",
    "    print(\"Not Palindrome\")"
   ]
  },
  {
   "cell_type": "code",
   "execution_count": 27,
   "metadata": {},
   "outputs": [
    {
     "ename": "IndentationError",
     "evalue": "unexpected indent (2719524046.py, line 3)",
     "output_type": "error",
     "traceback": [
      "\u001b[1;36m  Cell \u001b[1;32mIn[27], line 3\u001b[1;36m\u001b[0m\n\u001b[1;33m    if a%2 == 0:\u001b[0m\n\u001b[1;37m    ^\u001b[0m\n\u001b[1;31mIndentationError\u001b[0m\u001b[1;31m:\u001b[0m unexpected indent\n"
     ]
    }
   ],
   "source": [
    "# 6 write a python program that checks whether a given number is even or odd\n",
    "a = int(input(\"Enter a number: \"))\n",
    "    if a%2 == 0:\n",
    "    print(\"Even Number\")\n",
    "  else:\n",
    "    print((\"Odd Number\"))\n"
   ]
  },
  {
   "cell_type": "code",
   "execution_count": 26,
   "metadata": {},
   "outputs": [
    {
     "ename": "IndentationError",
     "evalue": "unexpected indent (786496311.py, line 5)",
     "output_type": "error",
     "traceback": [
      "\u001b[1;36m  Cell \u001b[1;32mIn[26], line 5\u001b[1;36m\u001b[0m\n\u001b[1;33m    print(str1+str2+str3)\u001b[0m\n\u001b[1;37m    ^\u001b[0m\n\u001b[1;31mIndentationError\u001b[0m\u001b[1;31m:\u001b[0m unexpected indent\n"
     ]
    }
   ],
   "source": [
    "# 7.Write a Python program that concatenates three strings entered by the user \n",
    "str1 = input(\"Enter a string1: \")\n",
    "str2 = input(\"Enter a string2: \")\n",
    "str3 = input(\"Enter a string3: \")\n",
    " print(str1+str2+str3)\n"
   ]
  },
  {
   "cell_type": "code",
   "execution_count": 31,
   "metadata": {},
   "outputs": [
    {
     "ename": "IndentationError",
     "evalue": "unexpected indent (69950972.py, line 8)",
     "output_type": "error",
     "traceback": [
      "\u001b[1;36m  Cell \u001b[1;32mIn[31], line 8\u001b[1;36m\u001b[0m\n\u001b[1;33m    list = []\u001b[0m\n\u001b[1;37m    ^\u001b[0m\n\u001b[1;31mIndentationError\u001b[0m\u001b[1;31m:\u001b[0m unexpected indent\n"
     ]
    }
   ],
   "source": [
    "#8.: Create a list of five elements, then perform the following operations:\n",
    "# Append a new element to the list.\n",
    "# Remove the third element.\n",
    "# Sort the list in ascending order.\n",
    "\n",
    "\n",
    "n = 5\n",
    " list = []\n",
    " for i in range(n):\n",
    "    a = input()\n",
    "    list.append(a)\n",
    " print(list)\n",
    " print(list.append(6))\n",
    " print(list.sort())\n",
    "\n"
   ]
  },
  {
   "cell_type": "code",
   "execution_count": 32,
   "metadata": {},
   "outputs": [
    {
     "ename": "SyntaxError",
     "evalue": "invalid decimal literal (226344469.py, line 1)",
     "output_type": "error",
     "traceback": [
      "\u001b[1;36m  Cell \u001b[1;32mIn[32], line 1\u001b[1;36m\u001b[0m\n\u001b[1;33m    9.str=input()\u001b[0m\n\u001b[1;37m     ^\u001b[0m\n\u001b[1;31mSyntaxError\u001b[0m\u001b[1;31m:\u001b[0m invalid decimal literal\n"
     ]
    }
   ],
   "source": [
    "9.str=input()\n",
    "k=len(str)\n",
    "for v in range(len(str)):\n",
    "    p=str[v]\n",
    "    r=str[k-v-1]\n",
    "if p==r:\n",
    "    print(\"palindrome\")\n",
    "else:\n",
    "    print(\"oops not a palindrome!!\")"
   ]
  },
  {
   "cell_type": "code",
   "execution_count": 33,
   "metadata": {},
   "outputs": [
    {
     "ename": "IndentationError",
     "evalue": "unexpected indent (4201199748.py, line 2)",
     "output_type": "error",
     "traceback": [
      "\u001b[1;36m  Cell \u001b[1;32mIn[33], line 2\u001b[1;36m\u001b[0m\n\u001b[1;33m    b = int(input())\u001b[0m\n\u001b[1;37m    ^\u001b[0m\n\u001b[1;31mIndentationError\u001b[0m\u001b[1;31m:\u001b[0m unexpected indent\n"
     ]
    }
   ],
   "source": [
    "a = int(input())\n",
    "   b = int(input())\n",
    "   sum = 0\n",
    "   if a!=0 and b!=0:\n",
    "    print(\"Addition: \", a+b)\n",
    "    print(\"Subtraction: \", a-b)\n",
    "    print(\"Multiplication: \", a*b)\n",
    "    print(\"Division: \", a/b"
   ]
  }
 ],
 "metadata": {
  "kernelspec": {
   "display_name": "Python 3",
   "language": "python",
   "name": "python3"
  },
  "language_info": {
   "codemirror_mode": {
    "name": "ipython",
    "version": 3
   },
   "file_extension": ".py",
   "mimetype": "text/x-python",
   "name": "python",
   "nbconvert_exporter": "python",
   "pygments_lexer": "ipython3",
   "version": "3.11.0"
  }
 },
 "nbformat": 4,
 "nbformat_minor": 2
}
