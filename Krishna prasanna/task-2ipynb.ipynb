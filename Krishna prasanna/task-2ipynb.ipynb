{
 "cells": [
  {
   "cell_type": "code",
   "execution_count": 1,
   "metadata": {},
   "outputs": [
    {
     "name": "stdout",
     "output_type": "stream",
     "text": [
      "55\n",
      "1\n",
      "2\n",
      "3\n",
      "4\n",
      "5\n",
      "6\n",
      "7\n",
      "8\n",
      "9\n",
      "10\n"
     ]
    }
   ],
   "source": [
    "#1.\n",
    "l=[1,2,3,4,5,6,7,8,9,10]\n",
    "print(sum(l))\n",
    "for i in range(len(l)):\n",
    "    print(l[i])\n",
    "\n"
   ]
  },
  {
   "cell_type": "code",
   "execution_count": 2,
   "metadata": {},
   "outputs": [
    {
     "name": "stdout",
     "output_type": "stream",
     "text": [
      "('kivi', 'dragenfruit', 'grapes', 'watermelon', 'apple')\n",
      "('apple', 'watermelon', 'grapes', 'dragenfruit', 'kivi')\n"
     ]
    }
   ],
   "source": [
    "#2.\n",
    "t=(\"kivi\",\"dragenfruit\",\"grapes\",\"watermelon\",\"apple\")\n",
    "print(t)\n",
    "print(t[-1::-1])\n"
   ]
  },
  {
   "cell_type": "code",
   "execution_count": 3,
   "metadata": {},
   "outputs": [
    {
     "name": "stdout",
     "output_type": "stream",
     "text": [
      "{'kittu': 'A', 'krishna': 'B', 'sunny': 'A'}\n",
      "{'kittu': 'A', 'krishna': 'B', 'sunny': 'A', 'prasanna': 'B'}\n",
      "{'kittu': 'A', 'krishna': 'B', 'sunny': 'A+', 'prasanna': 'B'}\n"
     ]
    }
   ],
   "source": [
    "#3\n",
    "d={\"kittu\":'A',\"krishna\":'B',\"sunny\":'A'}\n",
    "print(d)\n",
    "d[\"prasanna\"]='B'\n",
    "print(d)\n",
    "d[\"sunny\"]='A+'\n",
    "print(d)\n"
   ]
  },
  {
   "cell_type": "code",
   "execution_count": 4,
   "metadata": {},
   "outputs": [
    {
     "name": "stdout",
     "output_type": "stream",
     "text": [
      "[1, 2, 3, 4, 1, 2, 6, 7, 8]\n",
      "{1, 2, 3, 4, 6, 7, 8}\n"
     ]
    }
   ],
   "source": [
    "#4.\n",
    "l=[1,2,3,4,1,2,6,7,8]\n",
    "s=set(l)\n",
    "print(l)\n",
    "print(s)\n"
   ]
  },
  {
   "cell_type": "code",
   "execution_count": null,
   "metadata": {},
   "outputs": [],
   "source": []
  },
  {
   "cell_type": "code",
   "execution_count": 5,
   "metadata": {},
   "outputs": [
    {
     "name": "stdout",
     "output_type": "stream",
     "text": [
      "[1, 4, 9, 16, 25, 36, 49, 64, 81, 100]\n"
     ]
    }
   ],
   "source": [
    "#5.\n",
    "l=[i*i for i in range(1,11) if i<=10 ]\n",
    "print(l)\n"
   ]
  },
  {
   "cell_type": "code",
   "execution_count": 7,
   "metadata": {},
   "outputs": [
    {
     "name": "stdout",
     "output_type": "stream",
     "text": [
      "kittu\n",
      "24\n",
      "sattenapalli\n"
     ]
    }
   ],
   "source": [
    "#6.\n",
    "t=(\"kittu\",24,\"sattenapalli\")\n",
    "(name,age,city)=t\n",
    "print(name)\n",
    "print(age)\n",
    "print(city)\n"
   ]
  },
  {
   "cell_type": "code",
   "execution_count": 8,
   "metadata": {},
   "outputs": [
    {
     "name": "stdout",
     "output_type": "stream",
     "text": [
      "{'chinnu': 'A+', 'kittu': 'B', 'sunny': 'B+'}\n"
     ]
    }
   ],
   "source": [
    "#7\n",
    "l=[(\"chinnu\",\"A+\"),(\"kittu\",\"B\"),(\"sunny\",\"B+\")]\n",
    "d=dict(l)\n",
    "print(d)\n"
   ]
  },
  {
   "cell_type": "code",
   "execution_count": null,
   "metadata": {},
   "outputs": [],
   "source": [
    "#8\n",
    "s1={1,3,5,6}\n",
    "s2={8,9,10,12,3}\n",
    "u=s1|s2\n",
    "i=s1&s2\n",
    "print(i)\n",
    "print(u)\n"
   ]
  },
  {
   "cell_type": "code",
   "execution_count": null,
   "metadata": {},
   "outputs": [],
   "source": [
    "\n",
    "#9\n",
    "classroom={\"chinnu\":{\"Telugu\":90,\"English\":89,\"Maths\":100},\n",
    "           \"sunny\":{\"Telugu\":50,\"English\":80,\"Maths\":80},\n",
    "           \"kittu\":{\"Telugu\":100,\"English\":89,\"Maths\":70}}\n",
    "for s,t in classroom.items():\n",
    "    print(s,t)"
   ]
  }
 ],
 "metadata": {
  "kernelspec": {
   "display_name": "Python 3",
   "language": "python",
   "name": "python3"
  },
  "language_info": {
   "codemirror_mode": {
    "name": "ipython",
    "version": 3
   },
   "file_extension": ".py",
   "mimetype": "text/x-python",
   "name": "python",
   "nbconvert_exporter": "python",
   "pygments_lexer": "ipython3",
   "version": "3.11.0"
  }
 },
 "nbformat": 4,
 "nbformat_minor": 2
}
